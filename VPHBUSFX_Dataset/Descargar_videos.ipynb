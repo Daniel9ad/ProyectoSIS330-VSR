{
 "cells": [
  {
   "cell_type": "code",
   "execution_count": 5,
   "metadata": {},
   "outputs": [],
   "source": [
    "from pytube import YouTube\n",
    "import os\n",
    "import pandas as pd"
   ]
  },
  {
   "cell_type": "code",
   "execution_count": 6,
   "metadata": {},
   "outputs": [
    {
     "data": {
      "text/html": [
       "<div>\n",
       "<style scoped>\n",
       "    .dataframe tbody tr th:only-of-type {\n",
       "        vertical-align: middle;\n",
       "    }\n",
       "\n",
       "    .dataframe tbody tr th {\n",
       "        vertical-align: top;\n",
       "    }\n",
       "\n",
       "    .dataframe thead th {\n",
       "        text-align: right;\n",
       "    }\n",
       "</style>\n",
       "<table border=\"1\" class=\"dataframe\">\n",
       "  <thead>\n",
       "    <tr style=\"text-align: right;\">\n",
       "      <th></th>\n",
       "      <th>Link</th>\n",
       "      <th>Estado</th>\n",
       "    </tr>\n",
       "  </thead>\n",
       "  <tbody>\n",
       "    <tr>\n",
       "      <th>21</th>\n",
       "      <td>https://www.youtube.com/watch?v=c1PQUkqTm3A</td>\n",
       "      <td>0</td>\n",
       "    </tr>\n",
       "    <tr>\n",
       "      <th>22</th>\n",
       "      <td>https://www.youtube.com/watch?v=j7aGeTco_bo</td>\n",
       "      <td>0</td>\n",
       "    </tr>\n",
       "    <tr>\n",
       "      <th>23</th>\n",
       "      <td>https://www.youtube.com/watch?v=q0lINoEAUmI</td>\n",
       "      <td>0</td>\n",
       "    </tr>\n",
       "    <tr>\n",
       "      <th>24</th>\n",
       "      <td>https://www.youtube.com/watch?v=1aFluKtjsHg</td>\n",
       "      <td>0</td>\n",
       "    </tr>\n",
       "    <tr>\n",
       "      <th>25</th>\n",
       "      <td>https://www.youtube.com/watch?v=AMjWgfXHvoU</td>\n",
       "      <td>0</td>\n",
       "    </tr>\n",
       "    <tr>\n",
       "      <th>...</th>\n",
       "      <td>...</td>\n",
       "      <td>...</td>\n",
       "    </tr>\n",
       "    <tr>\n",
       "      <th>83</th>\n",
       "      <td>https://www.youtube.com/watch?v=z6ywJJa_MIo</td>\n",
       "      <td>0</td>\n",
       "    </tr>\n",
       "    <tr>\n",
       "      <th>84</th>\n",
       "      <td>https://www.youtube.com/watch?v=vKXKIrELdIc</td>\n",
       "      <td>0</td>\n",
       "    </tr>\n",
       "    <tr>\n",
       "      <th>85</th>\n",
       "      <td>https://www.youtube.com/watch?v=j4CmijlKMYo</td>\n",
       "      <td>0</td>\n",
       "    </tr>\n",
       "    <tr>\n",
       "      <th>86</th>\n",
       "      <td>https://www.youtube.com/watch?v=qNEeFyvHrlI</td>\n",
       "      <td>0</td>\n",
       "    </tr>\n",
       "    <tr>\n",
       "      <th>87</th>\n",
       "      <td>https://www.youtube.com/watch?v=n4uXDD96dyc</td>\n",
       "      <td>0</td>\n",
       "    </tr>\n",
       "  </tbody>\n",
       "</table>\n",
       "<p>67 rows × 2 columns</p>\n",
       "</div>"
      ],
      "text/plain": [
       "                                           Link  Estado\n",
       "21  https://www.youtube.com/watch?v=c1PQUkqTm3A       0\n",
       "22  https://www.youtube.com/watch?v=j7aGeTco_bo       0\n",
       "23  https://www.youtube.com/watch?v=q0lINoEAUmI       0\n",
       "24  https://www.youtube.com/watch?v=1aFluKtjsHg       0\n",
       "25  https://www.youtube.com/watch?v=AMjWgfXHvoU       0\n",
       "..                                          ...     ...\n",
       "83  https://www.youtube.com/watch?v=z6ywJJa_MIo       0\n",
       "84  https://www.youtube.com/watch?v=vKXKIrELdIc       0\n",
       "85  https://www.youtube.com/watch?v=j4CmijlKMYo       0\n",
       "86  https://www.youtube.com/watch?v=qNEeFyvHrlI       0\n",
       "87  https://www.youtube.com/watch?v=n4uXDD96dyc       0\n",
       "\n",
       "[67 rows x 2 columns]"
      ]
     },
     "execution_count": 6,
     "metadata": {},
     "output_type": "execute_result"
    }
   ],
   "source": [
    "df_links = pd.read_csv('Links_videos.csv', index_col=0)\n",
    "df_links0 = df_links.loc[df_links['Estado']==0]\n",
    "df_links0"
   ]
  },
  {
   "cell_type": "code",
   "execution_count": 7,
   "metadata": {},
   "outputs": [
    {
     "name": "stdout",
     "output_type": "stream",
     "text": [
      "https://www.youtube.com/watch?v=c1PQUkqTm3A\n",
      "Descargando 2\n"
     ]
    }
   ],
   "source": [
    "for link in df_links0['Link'].tolist()[0:5]:\n",
    "    print(link)\n",
    "    name = link.split('=')[1]\n",
    "    yt = YouTube(link)\n",
    "    streams = yt.streams\n",
    "    # for s in streams:\n",
    "    #     print(s)\n",
    "    stream = streams.filter(res=\"720p\", file_extension='mp4', progressive=\"True\")\n",
    "    if len(stream)!=0:\n",
    "        print('Descargando 1')\n",
    "        stream[0].download(output_path='videos', filename=f'{name}.mp4')\n",
    "    else:\n",
    "        stream = streams.filter(file_extension='mp4', progressive=\"True\").order_by('resolution').desc().first()\n",
    "        print('Descargando 2')\n",
    "        stream.download(output_path='videos', filename=f'{name}.mp4')\n",
    "        print(stream)\n",
    "    df_links.loc[df_links['Link']==link, 'Estado'] = 1\n",
    "    df_links.to_csv('Links_videos.csv')\n",
    "    print('---------------------------------------------')\n"
   ]
  },
  {
   "cell_type": "code",
   "execution_count": null,
   "metadata": {},
   "outputs": [],
   "source": []
  },
  {
   "cell_type": "code",
   "execution_count": null,
   "metadata": {},
   "outputs": [],
   "source": []
  },
  {
   "cell_type": "code",
   "execution_count": 5,
   "metadata": {},
   "outputs": [],
   "source": [
    "df = pd.read_csv('Links_videos.csv')"
   ]
  },
  {
   "cell_type": "code",
   "execution_count": 7,
   "metadata": {},
   "outputs": [
    {
     "data": {
      "text/plain": [
       "Index(['Link', 'estado'], dtype='object')"
      ]
     },
     "execution_count": 7,
     "metadata": {},
     "output_type": "execute_result"
    }
   ],
   "source": [
    "df.columns"
   ]
  },
  {
   "cell_type": "code",
   "execution_count": null,
   "metadata": {},
   "outputs": [],
   "source": []
  }
 ],
 "metadata": {
  "kernelspec": {
   "display_name": "Python 3",
   "language": "python",
   "name": "python3"
  },
  "language_info": {
   "codemirror_mode": {
    "name": "ipython",
    "version": 3
   },
   "file_extension": ".py",
   "mimetype": "text/x-python",
   "name": "python",
   "nbconvert_exporter": "python",
   "pygments_lexer": "ipython3",
   "version": "3.10.8"
  }
 },
 "nbformat": 4,
 "nbformat_minor": 2
}
