{
 "cells": [
  {
   "cell_type": "code",
   "execution_count": 1,
   "metadata": {},
   "outputs": [],
   "source": [
    "from pytube import YouTube\n",
    "import os\n",
    "import pandas as pd"
   ]
  },
  {
   "cell_type": "code",
   "execution_count": 5,
   "metadata": {},
   "outputs": [
    {
     "data": {
      "text/html": [
       "<div>\n",
       "<style scoped>\n",
       "    .dataframe tbody tr th:only-of-type {\n",
       "        vertical-align: middle;\n",
       "    }\n",
       "\n",
       "    .dataframe tbody tr th {\n",
       "        vertical-align: top;\n",
       "    }\n",
       "\n",
       "    .dataframe thead th {\n",
       "        text-align: right;\n",
       "    }\n",
       "</style>\n",
       "<table border=\"1\" class=\"dataframe\">\n",
       "  <thead>\n",
       "    <tr style=\"text-align: right;\">\n",
       "      <th></th>\n",
       "      <th>Link</th>\n",
       "      <th>Estado</th>\n",
       "    </tr>\n",
       "  </thead>\n",
       "  <tbody>\n",
       "    <tr>\n",
       "      <th>24</th>\n",
       "      <td>https://www.youtube.com/watch?v=1aFluKtjsHg</td>\n",
       "      <td>0</td>\n",
       "    </tr>\n",
       "    <tr>\n",
       "      <th>26</th>\n",
       "      <td>https://www.youtube.com/watch?v=I22gaxC82Jo</td>\n",
       "      <td>0</td>\n",
       "    </tr>\n",
       "    <tr>\n",
       "      <th>27</th>\n",
       "      <td>https://www.youtube.com/watch?v=N03I8GT9ZWw</td>\n",
       "      <td>0</td>\n",
       "    </tr>\n",
       "    <tr>\n",
       "      <th>28</th>\n",
       "      <td>https://www.youtube.com/watch?v=YVoPYOHbktM</td>\n",
       "      <td>0</td>\n",
       "    </tr>\n",
       "    <tr>\n",
       "      <th>29</th>\n",
       "      <td>https://www.youtube.com/watch?v=nkBR-oOAApk</td>\n",
       "      <td>0</td>\n",
       "    </tr>\n",
       "    <tr>\n",
       "      <th>...</th>\n",
       "      <td>...</td>\n",
       "      <td>...</td>\n",
       "    </tr>\n",
       "    <tr>\n",
       "      <th>122</th>\n",
       "      <td>https://www.youtube.com/watch?v=78ErCXX7DY4</td>\n",
       "      <td>0</td>\n",
       "    </tr>\n",
       "    <tr>\n",
       "      <th>123</th>\n",
       "      <td>https://www.youtube.com/watch?v=ilYqM94AdmY</td>\n",
       "      <td>0</td>\n",
       "    </tr>\n",
       "    <tr>\n",
       "      <th>124</th>\n",
       "      <td>https://www.youtube.com/watch?v=IvveiO9WMp4</td>\n",
       "      <td>0</td>\n",
       "    </tr>\n",
       "    <tr>\n",
       "      <th>125</th>\n",
       "      <td>https://www.youtube.com/watch?v=TOPPk6B_sXw</td>\n",
       "      <td>0</td>\n",
       "    </tr>\n",
       "    <tr>\n",
       "      <th>126</th>\n",
       "      <td>https://www.youtube.com/watch?v=UcwFdX1Gbwc</td>\n",
       "      <td>0</td>\n",
       "    </tr>\n",
       "  </tbody>\n",
       "</table>\n",
       "<p>73 rows × 2 columns</p>\n",
       "</div>"
      ],
      "text/plain": [
       "                                            Link  Estado\n",
       "24   https://www.youtube.com/watch?v=1aFluKtjsHg       0\n",
       "26   https://www.youtube.com/watch?v=I22gaxC82Jo       0\n",
       "27   https://www.youtube.com/watch?v=N03I8GT9ZWw       0\n",
       "28   https://www.youtube.com/watch?v=YVoPYOHbktM       0\n",
       "29   https://www.youtube.com/watch?v=nkBR-oOAApk       0\n",
       "..                                           ...     ...\n",
       "122  https://www.youtube.com/watch?v=78ErCXX7DY4       0\n",
       "123  https://www.youtube.com/watch?v=ilYqM94AdmY       0\n",
       "124  https://www.youtube.com/watch?v=IvveiO9WMp4       0\n",
       "125  https://www.youtube.com/watch?v=TOPPk6B_sXw       0\n",
       "126  https://www.youtube.com/watch?v=UcwFdX1Gbwc       0\n",
       "\n",
       "[73 rows x 2 columns]"
      ]
     },
     "execution_count": 5,
     "metadata": {},
     "output_type": "execute_result"
    }
   ],
   "source": [
    "df_links = pd.read_csv('Links_videos.csv', index_col=0)\n",
    "df_links0 = df_links.loc[df_links['Estado']==0]\n",
    "df_links0"
   ]
  },
  {
   "cell_type": "code",
   "execution_count": 6,
   "metadata": {},
   "outputs": [
    {
     "data": {
      "text/html": [
       "<div>\n",
       "<style scoped>\n",
       "    .dataframe tbody tr th:only-of-type {\n",
       "        vertical-align: middle;\n",
       "    }\n",
       "\n",
       "    .dataframe tbody tr th {\n",
       "        vertical-align: top;\n",
       "    }\n",
       "\n",
       "    .dataframe thead th {\n",
       "        text-align: right;\n",
       "    }\n",
       "</style>\n",
       "<table border=\"1\" class=\"dataframe\">\n",
       "  <thead>\n",
       "    <tr style=\"text-align: right;\">\n",
       "      <th></th>\n",
       "      <th>Link</th>\n",
       "      <th>Estado</th>\n",
       "    </tr>\n",
       "  </thead>\n",
       "  <tbody>\n",
       "    <tr>\n",
       "      <th>34</th>\n",
       "      <td>https://www.youtube.com/watch?v=FLsDywPIGs0</td>\n",
       "      <td>0</td>\n",
       "    </tr>\n",
       "    <tr>\n",
       "      <th>124</th>\n",
       "      <td>https://www.youtube.com/watch?v=IvveiO9WMp4</td>\n",
       "      <td>0</td>\n",
       "    </tr>\n",
       "    <tr>\n",
       "      <th>116</th>\n",
       "      <td>https://www.youtube.com/watch?v=7l5Bsz3LtJo</td>\n",
       "      <td>0</td>\n",
       "    </tr>\n",
       "    <tr>\n",
       "      <th>50</th>\n",
       "      <td>https://www.youtube.com/watch?v=1dudfrIceDw</td>\n",
       "      <td>0</td>\n",
       "    </tr>\n",
       "    <tr>\n",
       "      <th>64</th>\n",
       "      <td>https://www.youtube.com/watch?v=kBqQfazsWUw</td>\n",
       "      <td>0</td>\n",
       "    </tr>\n",
       "    <tr>\n",
       "      <th>...</th>\n",
       "      <td>...</td>\n",
       "      <td>...</td>\n",
       "    </tr>\n",
       "    <tr>\n",
       "      <th>29</th>\n",
       "      <td>https://www.youtube.com/watch?v=nkBR-oOAApk</td>\n",
       "      <td>0</td>\n",
       "    </tr>\n",
       "    <tr>\n",
       "      <th>76</th>\n",
       "      <td>https://www.youtube.com/watch?v=fP3yzJnLDp0</td>\n",
       "      <td>0</td>\n",
       "    </tr>\n",
       "    <tr>\n",
       "      <th>56</th>\n",
       "      <td>https://www.youtube.com/watch?v=ApQpN8ERZDU</td>\n",
       "      <td>0</td>\n",
       "    </tr>\n",
       "    <tr>\n",
       "      <th>108</th>\n",
       "      <td>https://www.youtube.com/watch?v=EkgPazXTQio</td>\n",
       "      <td>0</td>\n",
       "    </tr>\n",
       "    <tr>\n",
       "      <th>49</th>\n",
       "      <td>https://www.youtube.com/watch?v=1oy1Thto0e8</td>\n",
       "      <td>0</td>\n",
       "    </tr>\n",
       "  </tbody>\n",
       "</table>\n",
       "<p>73 rows × 2 columns</p>\n",
       "</div>"
      ],
      "text/plain": [
       "                                            Link  Estado\n",
       "34   https://www.youtube.com/watch?v=FLsDywPIGs0       0\n",
       "124  https://www.youtube.com/watch?v=IvveiO9WMp4       0\n",
       "116  https://www.youtube.com/watch?v=7l5Bsz3LtJo       0\n",
       "50   https://www.youtube.com/watch?v=1dudfrIceDw       0\n",
       "64   https://www.youtube.com/watch?v=kBqQfazsWUw       0\n",
       "..                                           ...     ...\n",
       "29   https://www.youtube.com/watch?v=nkBR-oOAApk       0\n",
       "76   https://www.youtube.com/watch?v=fP3yzJnLDp0       0\n",
       "56   https://www.youtube.com/watch?v=ApQpN8ERZDU       0\n",
       "108  https://www.youtube.com/watch?v=EkgPazXTQio       0\n",
       "49   https://www.youtube.com/watch?v=1oy1Thto0e8       0\n",
       "\n",
       "[73 rows x 2 columns]"
      ]
     },
     "execution_count": 6,
     "metadata": {},
     "output_type": "execute_result"
    }
   ],
   "source": [
    "df_links0 = df_links0.sample(frac=1)\n",
    "df_links0"
   ]
  },
  {
   "cell_type": "code",
   "execution_count": 7,
   "metadata": {},
   "outputs": [
    {
     "name": "stdout",
     "output_type": "stream",
     "text": [
      "https://www.youtube.com/watch?v=FLsDywPIGs0\n",
      "Descargando 2\n",
      "<Stream: itag=\"18\" mime_type=\"video/mp4\" res=\"360p\" fps=\"30fps\" vcodec=\"avc1.42001E\" acodec=\"mp4a.40.2\" progressive=\"True\" type=\"video\">\n",
      "---------------------------------------------\n",
      "https://www.youtube.com/watch?v=IvveiO9WMp4\n",
      "Descargando 2\n",
      "<Stream: itag=\"18\" mime_type=\"video/mp4\" res=\"360p\" fps=\"30fps\" vcodec=\"avc1.42001E\" acodec=\"mp4a.40.2\" progressive=\"True\" type=\"video\">\n",
      "---------------------------------------------\n",
      "https://www.youtube.com/watch?v=7l5Bsz3LtJo\n",
      "Descargando 2\n",
      "<Stream: itag=\"18\" mime_type=\"video/mp4\" res=\"360p\" fps=\"30fps\" vcodec=\"avc1.42001E\" acodec=\"mp4a.40.2\" progressive=\"True\" type=\"video\">\n",
      "---------------------------------------------\n",
      "https://www.youtube.com/watch?v=1dudfrIceDw\n",
      "Descargando 1\n",
      "---------------------------------------------\n",
      "https://www.youtube.com/watch?v=kBqQfazsWUw\n",
      "Descargando 1\n",
      "---------------------------------------------\n"
     ]
    }
   ],
   "source": [
    "for link in df_links0['Link'].tolist()[0:5]:\n",
    "    print(link)\n",
    "    name = link.split('=')[1]\n",
    "    yt = YouTube(link)\n",
    "    streams = yt.streams\n",
    "    # for s in streams:\n",
    "    #     print(s)\n",
    "    stream = streams.filter(res=\"720p\", file_extension='mp4', progressive=\"True\")\n",
    "    if len(stream)!=0:\n",
    "        print('Descargando 1')\n",
    "        stream[0].download(output_path='videos', filename=f'{name}.mp4')\n",
    "    else:\n",
    "        stream = streams.filter(file_extension='mp4', progressive=\"True\").order_by('resolution').desc().first()\n",
    "        print('Descargando 2')\n",
    "        stream.download(output_path='videos', filename=f'{name}.mp4')\n",
    "        print(stream)\n",
    "    df_links.loc[df_links['Link']==link, 'Estado'] = 1\n",
    "    df_links.to_csv('Links_videos.csv')\n",
    "    print('---------------------------------------------')\n"
   ]
  },
  {
   "cell_type": "code",
   "execution_count": null,
   "metadata": {},
   "outputs": [],
   "source": []
  },
  {
   "cell_type": "code",
   "execution_count": null,
   "metadata": {},
   "outputs": [],
   "source": []
  },
  {
   "cell_type": "code",
   "execution_count": null,
   "metadata": {},
   "outputs": [],
   "source": []
  },
  {
   "cell_type": "code",
   "execution_count": null,
   "metadata": {},
   "outputs": [],
   "source": []
  },
  {
   "cell_type": "code",
   "execution_count": null,
   "metadata": {},
   "outputs": [],
   "source": []
  },
  {
   "cell_type": "code",
   "execution_count": 5,
   "metadata": {},
   "outputs": [],
   "source": [
    "df = pd.read_csv('Links_videos.csv')"
   ]
  },
  {
   "cell_type": "code",
   "execution_count": 7,
   "metadata": {},
   "outputs": [
    {
     "data": {
      "text/plain": [
       "Index(['Link', 'estado'], dtype='object')"
      ]
     },
     "execution_count": 7,
     "metadata": {},
     "output_type": "execute_result"
    }
   ],
   "source": [
    "df.columns"
   ]
  },
  {
   "cell_type": "code",
   "execution_count": null,
   "metadata": {},
   "outputs": [],
   "source": []
  }
 ],
 "metadata": {
  "kernelspec": {
   "display_name": "Python 3",
   "language": "python",
   "name": "python3"
  },
  "language_info": {
   "codemirror_mode": {
    "name": "ipython",
    "version": 3
   },
   "file_extension": ".py",
   "mimetype": "text/x-python",
   "name": "python",
   "nbconvert_exporter": "python",
   "pygments_lexer": "ipython3",
   "version": "3.10.8"
  }
 },
 "nbformat": 4,
 "nbformat_minor": 2
}
