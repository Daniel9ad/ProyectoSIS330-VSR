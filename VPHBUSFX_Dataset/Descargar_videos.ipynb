{
 "cells": [
  {
   "cell_type": "code",
   "execution_count": 1,
   "metadata": {},
   "outputs": [],
   "source": [
    "from pytube import YouTube\n",
    "import os\n",
    "import pandas as pd"
   ]
  },
  {
   "cell_type": "code",
   "execution_count": 2,
   "metadata": {},
   "outputs": [
    {
     "data": {
      "text/html": [
       "<div>\n",
       "<style scoped>\n",
       "    .dataframe tbody tr th:only-of-type {\n",
       "        vertical-align: middle;\n",
       "    }\n",
       "\n",
       "    .dataframe tbody tr th {\n",
       "        vertical-align: top;\n",
       "    }\n",
       "\n",
       "    .dataframe thead th {\n",
       "        text-align: right;\n",
       "    }\n",
       "</style>\n",
       "<table border=\"1\" class=\"dataframe\">\n",
       "  <thead>\n",
       "    <tr style=\"text-align: right;\">\n",
       "      <th></th>\n",
       "      <th>Link</th>\n",
       "      <th>Estado</th>\n",
       "    </tr>\n",
       "  </thead>\n",
       "  <tbody>\n",
       "    <tr>\n",
       "      <th>23</th>\n",
       "      <td>https://www.youtube.com/watch?v=q0lINoEAUmI</td>\n",
       "      <td>0</td>\n",
       "    </tr>\n",
       "    <tr>\n",
       "      <th>24</th>\n",
       "      <td>https://www.youtube.com/watch?v=1aFluKtjsHg</td>\n",
       "      <td>0</td>\n",
       "    </tr>\n",
       "    <tr>\n",
       "      <th>26</th>\n",
       "      <td>https://www.youtube.com/watch?v=I22gaxC82Jo</td>\n",
       "      <td>0</td>\n",
       "    </tr>\n",
       "    <tr>\n",
       "      <th>27</th>\n",
       "      <td>https://www.youtube.com/watch?v=N03I8GT9ZWw</td>\n",
       "      <td>0</td>\n",
       "    </tr>\n",
       "    <tr>\n",
       "      <th>28</th>\n",
       "      <td>https://www.youtube.com/watch?v=YVoPYOHbktM</td>\n",
       "      <td>0</td>\n",
       "    </tr>\n",
       "    <tr>\n",
       "      <th>...</th>\n",
       "      <td>...</td>\n",
       "      <td>...</td>\n",
       "    </tr>\n",
       "    <tr>\n",
       "      <th>122</th>\n",
       "      <td>https://www.youtube.com/watch?v=78ErCXX7DY4</td>\n",
       "      <td>0</td>\n",
       "    </tr>\n",
       "    <tr>\n",
       "      <th>123</th>\n",
       "      <td>https://www.youtube.com/watch?v=ilYqM94AdmY</td>\n",
       "      <td>0</td>\n",
       "    </tr>\n",
       "    <tr>\n",
       "      <th>124</th>\n",
       "      <td>https://www.youtube.com/watch?v=IvveiO9WMp4</td>\n",
       "      <td>0</td>\n",
       "    </tr>\n",
       "    <tr>\n",
       "      <th>125</th>\n",
       "      <td>https://www.youtube.com/watch?v=TOPPk6B_sXw</td>\n",
       "      <td>0</td>\n",
       "    </tr>\n",
       "    <tr>\n",
       "      <th>126</th>\n",
       "      <td>https://www.youtube.com/watch?v=UcwFdX1Gbwc</td>\n",
       "      <td>0</td>\n",
       "    </tr>\n",
       "  </tbody>\n",
       "</table>\n",
       "<p>78 rows × 2 columns</p>\n",
       "</div>"
      ],
      "text/plain": [
       "                                            Link  Estado\n",
       "23   https://www.youtube.com/watch?v=q0lINoEAUmI       0\n",
       "24   https://www.youtube.com/watch?v=1aFluKtjsHg       0\n",
       "26   https://www.youtube.com/watch?v=I22gaxC82Jo       0\n",
       "27   https://www.youtube.com/watch?v=N03I8GT9ZWw       0\n",
       "28   https://www.youtube.com/watch?v=YVoPYOHbktM       0\n",
       "..                                           ...     ...\n",
       "122  https://www.youtube.com/watch?v=78ErCXX7DY4       0\n",
       "123  https://www.youtube.com/watch?v=ilYqM94AdmY       0\n",
       "124  https://www.youtube.com/watch?v=IvveiO9WMp4       0\n",
       "125  https://www.youtube.com/watch?v=TOPPk6B_sXw       0\n",
       "126  https://www.youtube.com/watch?v=UcwFdX1Gbwc       0\n",
       "\n",
       "[78 rows x 2 columns]"
      ]
     },
     "execution_count": 2,
     "metadata": {},
     "output_type": "execute_result"
    }
   ],
   "source": [
    "df_links = pd.read_csv('Links_videos.csv', index_col=0)\n",
    "df_links0 = df_links.loc[df_links['Estado']==0]\n",
    "df_links0"
   ]
  },
  {
   "cell_type": "code",
   "execution_count": 3,
   "metadata": {},
   "outputs": [
    {
     "data": {
      "text/html": [
       "<div>\n",
       "<style scoped>\n",
       "    .dataframe tbody tr th:only-of-type {\n",
       "        vertical-align: middle;\n",
       "    }\n",
       "\n",
       "    .dataframe tbody tr th {\n",
       "        vertical-align: top;\n",
       "    }\n",
       "\n",
       "    .dataframe thead th {\n",
       "        text-align: right;\n",
       "    }\n",
       "</style>\n",
       "<table border=\"1\" class=\"dataframe\">\n",
       "  <thead>\n",
       "    <tr style=\"text-align: right;\">\n",
       "      <th></th>\n",
       "      <th>Link</th>\n",
       "      <th>Estado</th>\n",
       "    </tr>\n",
       "  </thead>\n",
       "  <tbody>\n",
       "    <tr>\n",
       "      <th>23</th>\n",
       "      <td>https://www.youtube.com/watch?v=q0lINoEAUmI</td>\n",
       "      <td>0</td>\n",
       "    </tr>\n",
       "    <tr>\n",
       "      <th>121</th>\n",
       "      <td>https://www.youtube.com/watch?v=20qxEI3vPk4</td>\n",
       "      <td>0</td>\n",
       "    </tr>\n",
       "    <tr>\n",
       "      <th>90</th>\n",
       "      <td>https://www.youtube.com/watch?v=Yhfxq3Ho5x4</td>\n",
       "      <td>0</td>\n",
       "    </tr>\n",
       "    <tr>\n",
       "      <th>106</th>\n",
       "      <td>https://www.youtube.com/watch?v=S-fUjBYmFTQ</td>\n",
       "      <td>0</td>\n",
       "    </tr>\n",
       "    <tr>\n",
       "      <th>113</th>\n",
       "      <td>https://www.youtube.com/watch?v=DdIN2E1mf2A</td>\n",
       "      <td>0</td>\n",
       "    </tr>\n",
       "    <tr>\n",
       "      <th>...</th>\n",
       "      <td>...</td>\n",
       "      <td>...</td>\n",
       "    </tr>\n",
       "    <tr>\n",
       "      <th>122</th>\n",
       "      <td>https://www.youtube.com/watch?v=78ErCXX7DY4</td>\n",
       "      <td>0</td>\n",
       "    </tr>\n",
       "    <tr>\n",
       "      <th>103</th>\n",
       "      <td>https://www.youtube.com/watch?v=Q3rGqPIa7s0</td>\n",
       "      <td>0</td>\n",
       "    </tr>\n",
       "    <tr>\n",
       "      <th>110</th>\n",
       "      <td>https://www.youtube.com/watch?v=rNbLCUnE6j0</td>\n",
       "      <td>0</td>\n",
       "    </tr>\n",
       "    <tr>\n",
       "      <th>56</th>\n",
       "      <td>https://www.youtube.com/watch?v=ApQpN8ERZDU</td>\n",
       "      <td>0</td>\n",
       "    </tr>\n",
       "    <tr>\n",
       "      <th>112</th>\n",
       "      <td>https://www.youtube.com/watch?v=DgMQrlGe6s4</td>\n",
       "      <td>0</td>\n",
       "    </tr>\n",
       "  </tbody>\n",
       "</table>\n",
       "<p>78 rows × 2 columns</p>\n",
       "</div>"
      ],
      "text/plain": [
       "                                            Link  Estado\n",
       "23   https://www.youtube.com/watch?v=q0lINoEAUmI       0\n",
       "121  https://www.youtube.com/watch?v=20qxEI3vPk4       0\n",
       "90   https://www.youtube.com/watch?v=Yhfxq3Ho5x4       0\n",
       "106  https://www.youtube.com/watch?v=S-fUjBYmFTQ       0\n",
       "113  https://www.youtube.com/watch?v=DdIN2E1mf2A       0\n",
       "..                                           ...     ...\n",
       "122  https://www.youtube.com/watch?v=78ErCXX7DY4       0\n",
       "103  https://www.youtube.com/watch?v=Q3rGqPIa7s0       0\n",
       "110  https://www.youtube.com/watch?v=rNbLCUnE6j0       0\n",
       "56   https://www.youtube.com/watch?v=ApQpN8ERZDU       0\n",
       "112  https://www.youtube.com/watch?v=DgMQrlGe6s4       0\n",
       "\n",
       "[78 rows x 2 columns]"
      ]
     },
     "execution_count": 3,
     "metadata": {},
     "output_type": "execute_result"
    }
   ],
   "source": [
    "df_links0 = df_links0.sample(frac=1)\n",
    "df_links0"
   ]
  },
  {
   "cell_type": "code",
   "execution_count": 4,
   "metadata": {},
   "outputs": [
    {
     "name": "stdout",
     "output_type": "stream",
     "text": [
      "https://www.youtube.com/watch?v=q0lINoEAUmI\n",
      "Descargando 2\n"
     ]
    }
   ],
   "source": [
    "for link in df_links0['Link'].tolist()[0:5]:\n",
    "    print(link)\n",
    "    name = link.split('=')[1]\n",
    "    yt = YouTube(link)\n",
    "    streams = yt.streams\n",
    "    # for s in streams:\n",
    "    #     print(s)\n",
    "    stream = streams.filter(res=\"720p\", file_extension='mp4', progressive=\"True\")\n",
    "    if len(stream)!=0:\n",
    "        print('Descargando 1')\n",
    "        stream[0].download(output_path='videos', filename=f'{name}.mp4')\n",
    "    else:\n",
    "        stream = streams.filter(file_extension='mp4', progressive=\"True\").order_by('resolution').desc().first()\n",
    "        print('Descargando 2')\n",
    "        stream.download(output_path='videos', filename=f'{name}.mp4')\n",
    "        print(stream)\n",
    "    df_links.loc[df_links['Link']==link, 'Estado'] = 1\n",
    "    df_links.to_csv('Links_videos.csv')\n",
    "    print('---------------------------------------------')\n"
   ]
  },
  {
   "cell_type": "code",
   "execution_count": null,
   "metadata": {},
   "outputs": [],
   "source": []
  },
  {
   "cell_type": "code",
   "execution_count": null,
   "metadata": {},
   "outputs": [],
   "source": []
  },
  {
   "cell_type": "code",
   "execution_count": null,
   "metadata": {},
   "outputs": [],
   "source": []
  },
  {
   "cell_type": "code",
   "execution_count": null,
   "metadata": {},
   "outputs": [],
   "source": []
  },
  {
   "cell_type": "code",
   "execution_count": null,
   "metadata": {},
   "outputs": [],
   "source": []
  },
  {
   "cell_type": "code",
   "execution_count": 5,
   "metadata": {},
   "outputs": [],
   "source": [
    "df = pd.read_csv('Links_videos.csv')"
   ]
  },
  {
   "cell_type": "code",
   "execution_count": 7,
   "metadata": {},
   "outputs": [
    {
     "data": {
      "text/plain": [
       "Index(['Link', 'estado'], dtype='object')"
      ]
     },
     "execution_count": 7,
     "metadata": {},
     "output_type": "execute_result"
    }
   ],
   "source": [
    "df.columns"
   ]
  },
  {
   "cell_type": "code",
   "execution_count": null,
   "metadata": {},
   "outputs": [],
   "source": []
  }
 ],
 "metadata": {
  "kernelspec": {
   "display_name": "Python 3",
   "language": "python",
   "name": "python3"
  },
  "language_info": {
   "codemirror_mode": {
    "name": "ipython",
    "version": 3
   },
   "file_extension": ".py",
   "mimetype": "text/x-python",
   "name": "python",
   "nbconvert_exporter": "python",
   "pygments_lexer": "ipython3",
   "version": "3.10.8"
  }
 },
 "nbformat": 4,
 "nbformat_minor": 2
}
