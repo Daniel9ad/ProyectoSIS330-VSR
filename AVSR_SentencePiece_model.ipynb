{
  "nbformat": 4,
  "nbformat_minor": 0,
  "metadata": {
    "colab": {
      "provenance": []
    },
    "kernelspec": {
      "name": "python3",
      "display_name": "Python 3"
    },
    "language_info": {
      "name": "python"
    }
  },
  "cells": [
    {
      "cell_type": "code",
      "execution_count": 1,
      "metadata": {
        "colab": {
          "base_uri": "https://localhost:8080/"
        },
        "id": "Ir1K8fKWzyDM",
        "outputId": "23db8f88-8aab-4f19-a45a-994ab2973f94"
      },
      "outputs": [
        {
          "output_type": "stream",
          "name": "stdout",
          "text": [
            "Cloning into 'auto_avsr'...\n",
            "remote: Enumerating objects: 272, done.\u001b[K\n",
            "remote: Counting objects: 100% (91/91), done.\u001b[K\n",
            "remote: Compressing objects: 100% (56/56), done.\u001b[K\n",
            "remote: Total 272 (delta 53), reused 35 (delta 35), pack-reused 181\u001b[K\n",
            "Receiving objects: 100% (272/272), 31.46 MiB | 10.19 MiB/s, done.\n",
            "Resolving deltas: 100% (95/95), done.\n"
          ]
        }
      ],
      "source": [
        "!git clone https://github.com/mpc001/auto_avsr"
      ]
    },
    {
      "cell_type": "code",
      "source": [
        "import os\n",
        "from tqdm import tqdm"
      ],
      "metadata": {
        "id": "crloPN-J0jRQ"
      },
      "execution_count": 2,
      "outputs": []
    },
    {
      "cell_type": "markdown",
      "source": [
        "# Generar input.txt"
      ],
      "metadata": {
        "id": "Dk1GpTQt3RNG"
      }
    },
    {
      "cell_type": "code",
      "source": [
        "# Obtener la ruta de la carpeta\n",
        "ruta_carpeta = \"/content/drive/MyDrive/vsr/VPHB_USFX_preprocessing/VPHBUSFX/text\"\n",
        "\n",
        "# Lista para almacenar las oraciones\n",
        "oraciones = []\n",
        "\n",
        "# Recorrer los archivos .txt en la carpeta\n",
        "for archivo in tqdm(os.listdir(ruta_carpeta)):\n",
        "    # Si el archivo es un .txt\n",
        "    if archivo.endswith(\".txt\"):\n",
        "        # Abrir el archivo en modo lectura\n",
        "        with open(os.path.join(ruta_carpeta, archivo), \"r\") as f:\n",
        "            # Leer cada línea del archivo\n",
        "            for linea in f:\n",
        "                # Agregar la línea a la lista de oraciones\n",
        "                oraciones.append(linea.strip())\n",
        "\n",
        "# Abrir un nuevo archivo .txt en modo escritura\n",
        "with open(\"/content/auto_avsr/spm/input.txt\", \"w\") as f:\n",
        "    # Escribir cada oración en el nuevo archivo\n",
        "    for oracion in oraciones:\n",
        "        f.write(oracion + \"\\n\")"
      ],
      "metadata": {
        "colab": {
          "base_uri": "https://localhost:8080/"
        },
        "id": "prGo08ig2BR6",
        "outputId": "ab407ad9-8606-4c2d-c24d-3b78836144d3"
      },
      "execution_count": 3,
      "outputs": [
        {
          "output_type": "stream",
          "name": "stderr",
          "text": [
            "100%|██████████| 1241/1241 [00:26<00:00, 46.70it/s] \n"
          ]
        }
      ]
    },
    {
      "cell_type": "markdown",
      "source": [
        "# Entrenar SentencePiece"
      ],
      "metadata": {
        "id": "TutblO6J3ZsM"
      }
    },
    {
      "cell_type": "code",
      "source": [
        "%cd \"/content/auto_avsr/spm\""
      ],
      "metadata": {
        "colab": {
          "base_uri": "https://localhost:8080/"
        },
        "id": "ynxzM9mv4tVM",
        "outputId": "b285c9de-6b82-4a46-aa57-1b09079dcbf8"
      },
      "execution_count": 4,
      "outputs": [
        {
          "output_type": "stream",
          "name": "stdout",
          "text": [
            "/content/auto_avsr/spm\n"
          ]
        }
      ]
    },
    {
      "cell_type": "code",
      "source": [
        "!bash train.sh"
      ],
      "metadata": {
        "colab": {
          "base_uri": "https://localhost:8080/"
        },
        "id": "9CUzfZoi4pld",
        "outputId": "b26f3fe0-329f-4bac-b9b8-ff1e94b53dc7"
      },
      "execution_count": 6,
      "outputs": [
        {
          "output_type": "stream",
          "name": "stdout",
          "text": [
            "sentencepiece_trainer.cc(177) LOG(INFO) Running command: --input=input.txt --vocab_size=1000 --model_type=unigram --model_prefix=unigram/unigram1000 --input_sentence_size=100000000\n",
            "sentencepiece_trainer.cc(77) LOG(INFO) Starts training with : \n",
            "trainer_spec {\n",
            "  input: input.txt\n",
            "  input_format: \n",
            "  model_prefix: unigram/unigram1000\n",
            "  model_type: UNIGRAM\n",
            "  vocab_size: 1000\n",
            "  self_test_sample_size: 0\n",
            "  character_coverage: 0.9995\n",
            "  input_sentence_size: 100000000\n",
            "  shuffle_input_sentence: 1\n",
            "  seed_sentencepiece_size: 1000000\n",
            "  shrinking_factor: 0.75\n",
            "  max_sentence_length: 4192\n",
            "  num_threads: 16\n",
            "  num_sub_iterations: 2\n",
            "  max_sentencepiece_length: 16\n",
            "  split_by_unicode_script: 1\n",
            "  split_by_number: 1\n",
            "  split_by_whitespace: 1\n",
            "  split_digits: 0\n",
            "  pretokenization_delimiter: \n",
            "  treat_whitespace_as_suffix: 0\n",
            "  allow_whitespace_only_pieces: 0\n",
            "  required_chars: \n",
            "  byte_fallback: 0\n",
            "  vocabulary_output_piece_score: 1\n",
            "  train_extremely_large_corpus: 0\n",
            "  hard_vocab_limit: 1\n",
            "  use_all_vocab: 0\n",
            "  unk_id: 0\n",
            "  bos_id: 1\n",
            "  eos_id: 2\n",
            "  pad_id: -1\n",
            "  unk_piece: <unk>\n",
            "  bos_piece: <s>\n",
            "  eos_piece: </s>\n",
            "  pad_piece: <pad>\n",
            "  unk_surface:  ⁇ \n",
            "  enable_differential_privacy: 0\n",
            "  differential_privacy_noise_level: 0\n",
            "  differential_privacy_clipping_threshold: 0\n",
            "}\n",
            "normalizer_spec {\n",
            "  name: nmt_nfkc\n",
            "  add_dummy_prefix: 1\n",
            "  remove_extra_whitespaces: 1\n",
            "  escape_whitespaces: 1\n",
            "  normalization_rule_tsv: \n",
            "}\n",
            "denormalizer_spec {}\n",
            "trainer_interface.cc(351) LOG(INFO) SentenceIterator is not specified. Using MultiFileSentenceIterator.\n",
            "trainer_interface.cc(183) LOG(INFO) Loading corpus: input.txt\n",
            "trainer_interface.cc(407) LOG(INFO) Loaded all 1241 sentences\n",
            "trainer_interface.cc(423) LOG(INFO) Adding meta_piece: <unk>\n",
            "trainer_interface.cc(423) LOG(INFO) Adding meta_piece: <s>\n",
            "trainer_interface.cc(423) LOG(INFO) Adding meta_piece: </s>\n",
            "trainer_interface.cc(428) LOG(INFO) Normalizing sentences...\n",
            "trainer_interface.cc(537) LOG(INFO) all chars count=150361\n",
            "trainer_interface.cc(548) LOG(INFO) Done: 99.9515% characters are covered.\n",
            "trainer_interface.cc(558) LOG(INFO) Alphabet size=40\n",
            "trainer_interface.cc(559) LOG(INFO) Final character coverage=0.999515\n",
            "trainer_interface.cc(591) LOG(INFO) Done! preprocessed 1241 sentences.\n",
            "unigram_model_trainer.cc(222) LOG(INFO) Making suffix array...\n",
            "unigram_model_trainer.cc(226) LOG(INFO) Extracting frequent sub strings... node_num=83167\n",
            "unigram_model_trainer.cc(274) LOG(INFO) Initialized 11857 seed sentencepieces\n",
            "trainer_interface.cc(597) LOG(INFO) Tokenizing input sentences with whitespace: 1241\n",
            "trainer_interface.cc(608) LOG(INFO) Done! 4181\n",
            "unigram_model_trainer.cc(564) LOG(INFO) Using 4181 sentences for EM training\n",
            "unigram_model_trainer.cc(580) LOG(INFO) EM sub_iter=0 size=3835 obj=9.9804 num_tokens=8019 num_tokens/piece=2.091\n",
            "unigram_model_trainer.cc(580) LOG(INFO) EM sub_iter=1 size=3334 obj=8.35345 num_tokens=8119 num_tokens/piece=2.43521\n",
            "unigram_model_trainer.cc(580) LOG(INFO) EM sub_iter=0 size=2499 obj=8.38138 num_tokens=8804 num_tokens/piece=3.52301\n",
            "unigram_model_trainer.cc(580) LOG(INFO) EM sub_iter=1 size=2496 obj=8.30327 num_tokens=8834 num_tokens/piece=3.53926\n",
            "unigram_model_trainer.cc(580) LOG(INFO) EM sub_iter=0 size=1871 obj=8.60005 num_tokens=10043 num_tokens/piece=5.36772\n",
            "unigram_model_trainer.cc(580) LOG(INFO) EM sub_iter=1 size=1870 obj=8.51148 num_tokens=10064 num_tokens/piece=5.38182\n",
            "unigram_model_trainer.cc(580) LOG(INFO) EM sub_iter=0 size=1402 obj=8.96213 num_tokens=11619 num_tokens/piece=8.28745\n",
            "unigram_model_trainer.cc(580) LOG(INFO) EM sub_iter=1 size=1402 obj=8.85571 num_tokens=11620 num_tokens/piece=8.28816\n",
            "unigram_model_trainer.cc(580) LOG(INFO) EM sub_iter=0 size=1100 obj=9.24909 num_tokens=13028 num_tokens/piece=11.8436\n",
            "unigram_model_trainer.cc(580) LOG(INFO) EM sub_iter=1 size=1100 obj=9.15987 num_tokens=13030 num_tokens/piece=11.8455\n",
            "trainer_interface.cc(686) LOG(INFO) Saving model: unigram/unigram1000.model\n",
            "trainer_interface.cc(698) LOG(INFO) Saving vocabs: unigram/unigram1000.vocab\n",
            "skipped 0 empty lines\n",
            "filtered 0 lines\n"
          ]
        }
      ]
    },
    {
      "cell_type": "code",
      "source": [],
      "metadata": {
        "id": "j0ANEf1z3jev"
      },
      "execution_count": null,
      "outputs": []
    }
  ]
}