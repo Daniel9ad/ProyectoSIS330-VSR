{
  "nbformat": 4,
  "nbformat_minor": 0,
  "metadata": {
    "colab": {
      "provenance": []
    },
    "kernelspec": {
      "name": "python3",
      "display_name": "Python 3"
    },
    "language_info": {
      "name": "python"
    }
  },
  "cells": [
    {
      "cell_type": "code",
      "execution_count": 1,
      "metadata": {
        "colab": {
          "base_uri": "https://localhost:8080/"
        },
        "id": "Ir1K8fKWzyDM",
        "outputId": "76be6544-3e26-4bae-b8bb-63478931d920"
      },
      "outputs": [
        {
          "output_type": "stream",
          "name": "stdout",
          "text": [
            "Cloning into 'auto_avsr'...\n",
            "remote: Enumerating objects: 272, done.\u001b[K\n",
            "remote: Counting objects: 100% (91/91), done.\u001b[K\n",
            "remote: Compressing objects: 100% (56/56), done.\u001b[K\n",
            "remote: Total 272 (delta 53), reused 35 (delta 35), pack-reused 181\u001b[K\n",
            "Receiving objects: 100% (272/272), 31.46 MiB | 17.37 MiB/s, done.\n",
            "Resolving deltas: 100% (95/95), done.\n"
          ]
        }
      ],
      "source": [
        "!git clone https://github.com/mpc001/auto_avsr"
      ]
    },
    {
      "cell_type": "code",
      "source": [
        "import os\n",
        "from tqdm import tqdm"
      ],
      "metadata": {
        "id": "crloPN-J0jRQ"
      },
      "execution_count": 2,
      "outputs": []
    },
    {
      "cell_type": "markdown",
      "source": [
        "# Generar input.txt"
      ],
      "metadata": {
        "id": "Dk1GpTQt3RNG"
      }
    },
    {
      "cell_type": "code",
      "source": [
        "# Obtener la ruta de la carpeta\n",
        "ruta_carpeta = \"/content/drive/MyDrive/vsr/VPHB_USFX_preprocessing/VPHBUSFX/text\"\n",
        "\n",
        "# Lista para almacenar las oraciones\n",
        "oraciones = []\n",
        "\n",
        "# Recorrer los archivos .txt en la carpeta\n",
        "for archivo in tqdm(os.listdir(ruta_carpeta)):\n",
        "    # Si el archivo es un .txt\n",
        "    if archivo.endswith(\".txt\"):\n",
        "        # Abrir el archivo en modo lectura\n",
        "        with open(os.path.join(ruta_carpeta, archivo), \"r\") as f:\n",
        "            # Leer cada línea del archivo\n",
        "            for linea in f:\n",
        "                # Agregar la línea a la lista de oraciones\n",
        "                oraciones.append(linea.strip())\n",
        "\n",
        "# Abrir un nuevo archivo .txt en modo escritura\n",
        "with open(\"/content/auto_avsr/spm/input.txt\", \"w\") as f:\n",
        "    # Escribir cada oración en el nuevo archivo\n",
        "    for oracion in oraciones:\n",
        "        f.write(oracion + \"\\n\")"
      ],
      "metadata": {
        "colab": {
          "base_uri": "https://localhost:8080/"
        },
        "id": "prGo08ig2BR6",
        "outputId": "0bf8e4ef-28e6-4fa4-d596-cb900e5a04e4"
      },
      "execution_count": 10,
      "outputs": [
        {
          "output_type": "stream",
          "name": "stderr",
          "text": [
            "100%|██████████| 712/712 [00:06<00:00, 102.40it/s]\n"
          ]
        }
      ]
    },
    {
      "cell_type": "markdown",
      "source": [
        "# Entrenar SentencePiece"
      ],
      "metadata": {
        "id": "TutblO6J3ZsM"
      }
    },
    {
      "cell_type": "code",
      "source": [
        "%cd \"/content/auto_avsr/spm\""
      ],
      "metadata": {
        "colab": {
          "base_uri": "https://localhost:8080/"
        },
        "id": "ynxzM9mv4tVM",
        "outputId": "43a54e95-3ad6-49f6-8aa8-77b88d227547"
      },
      "execution_count": 13,
      "outputs": [
        {
          "output_type": "stream",
          "name": "stdout",
          "text": [
            "/content/auto_avsr/spm\n"
          ]
        }
      ]
    },
    {
      "cell_type": "code",
      "source": [
        "!bash train.sh"
      ],
      "metadata": {
        "colab": {
          "base_uri": "https://localhost:8080/"
        },
        "id": "9CUzfZoi4pld",
        "outputId": "0781bb7b-5473-43ca-a0f1-b2aa610f3cc9"
      },
      "execution_count": 18,
      "outputs": [
        {
          "output_type": "stream",
          "name": "stdout",
          "text": [
            "sentencepiece_trainer.cc(177) LOG(INFO) Running command: --input=input.txt --vocab_size=2000 --model_type=unigram --model_prefix=unigram/unigram2000 --input_sentence_size=100000000\n",
            "sentencepiece_trainer.cc(77) LOG(INFO) Starts training with : \n",
            "trainer_spec {\n",
            "  input: input.txt\n",
            "  input_format: \n",
            "  model_prefix: unigram/unigram2000\n",
            "  model_type: UNIGRAM\n",
            "  vocab_size: 2000\n",
            "  self_test_sample_size: 0\n",
            "  character_coverage: 0.9995\n",
            "  input_sentence_size: 100000000\n",
            "  shuffle_input_sentence: 1\n",
            "  seed_sentencepiece_size: 1000000\n",
            "  shrinking_factor: 0.75\n",
            "  max_sentence_length: 4192\n",
            "  num_threads: 16\n",
            "  num_sub_iterations: 2\n",
            "  max_sentencepiece_length: 16\n",
            "  split_by_unicode_script: 1\n",
            "  split_by_number: 1\n",
            "  split_by_whitespace: 1\n",
            "  split_digits: 0\n",
            "  pretokenization_delimiter: \n",
            "  treat_whitespace_as_suffix: 0\n",
            "  allow_whitespace_only_pieces: 0\n",
            "  required_chars: \n",
            "  byte_fallback: 0\n",
            "  vocabulary_output_piece_score: 1\n",
            "  train_extremely_large_corpus: 0\n",
            "  hard_vocab_limit: 1\n",
            "  use_all_vocab: 0\n",
            "  unk_id: 0\n",
            "  bos_id: 1\n",
            "  eos_id: 2\n",
            "  pad_id: -1\n",
            "  unk_piece: <unk>\n",
            "  bos_piece: <s>\n",
            "  eos_piece: </s>\n",
            "  pad_piece: <pad>\n",
            "  unk_surface:  ⁇ \n",
            "  enable_differential_privacy: 0\n",
            "  differential_privacy_noise_level: 0\n",
            "  differential_privacy_clipping_threshold: 0\n",
            "}\n",
            "normalizer_spec {\n",
            "  name: nmt_nfkc\n",
            "  add_dummy_prefix: 1\n",
            "  remove_extra_whitespaces: 1\n",
            "  escape_whitespaces: 1\n",
            "  normalization_rule_tsv: \n",
            "}\n",
            "denormalizer_spec {}\n",
            "trainer_interface.cc(351) LOG(INFO) SentenceIterator is not specified. Using MultiFileSentenceIterator.\n",
            "trainer_interface.cc(183) LOG(INFO) Loading corpus: input.txt\n",
            "trainer_interface.cc(407) LOG(INFO) Loaded all 711 sentences\n",
            "trainer_interface.cc(423) LOG(INFO) Adding meta_piece: <unk>\n",
            "trainer_interface.cc(423) LOG(INFO) Adding meta_piece: <s>\n",
            "trainer_interface.cc(423) LOG(INFO) Adding meta_piece: </s>\n",
            "trainer_interface.cc(428) LOG(INFO) Normalizing sentences...\n",
            "trainer_interface.cc(537) LOG(INFO) all chars count=108785\n",
            "trainer_interface.cc(548) LOG(INFO) Done: 99.9504% characters are covered.\n",
            "trainer_interface.cc(558) LOG(INFO) Alphabet size=39\n",
            "trainer_interface.cc(559) LOG(INFO) Final character coverage=0.999504\n",
            "trainer_interface.cc(591) LOG(INFO) Done! preprocessed 711 sentences.\n",
            "unigram_model_trainer.cc(222) LOG(INFO) Making suffix array...\n",
            "unigram_model_trainer.cc(226) LOG(INFO) Extracting frequent sub strings... node_num=59575\n",
            "unigram_model_trainer.cc(274) LOG(INFO) Initialized 9489 seed sentencepieces\n",
            "trainer_interface.cc(597) LOG(INFO) Tokenizing input sentences with whitespace: 711\n",
            "trainer_interface.cc(608) LOG(INFO) Done! 3411\n",
            "unigram_model_trainer.cc(564) LOG(INFO) Using 3411 sentences for EM training\n",
            "unigram_model_trainer.cc(580) LOG(INFO) EM sub_iter=0 size=3197 obj=10.2622 num_tokens=6725 num_tokens/piece=2.10353\n",
            "unigram_model_trainer.cc(580) LOG(INFO) EM sub_iter=1 size=2770 obj=8.68981 num_tokens=6807 num_tokens/piece=2.4574\n",
            "unigram_model_trainer.cc(580) LOG(INFO) EM sub_iter=0 size=2198 obj=8.68271 num_tokens=7261 num_tokens/piece=3.30346\n",
            "unigram_model_trainer.cc(580) LOG(INFO) EM sub_iter=1 size=2190 obj=8.60882 num_tokens=7268 num_tokens/piece=3.31872\n",
            "trainer_interface.cc(686) LOG(INFO) Saving model: unigram/unigram2000.model\n",
            "trainer_interface.cc(698) LOG(INFO) Saving vocabs: unigram/unigram2000.vocab\n",
            "skipped 0 empty lines\n",
            "filtered 0 lines\n"
          ]
        }
      ]
    },
    {
      "cell_type": "code",
      "source": [],
      "metadata": {
        "id": "j0ANEf1z3jev"
      },
      "execution_count": null,
      "outputs": []
    }
  ]
}