{
  "nbformat": 4,
  "nbformat_minor": 0,
  "metadata": {
    "colab": {
      "provenance": []
    },
    "kernelspec": {
      "name": "python3",
      "display_name": "Python 3"
    },
    "language_info": {
      "name": "python"
    }
  },
  "cells": [
    {
      "cell_type": "code",
      "execution_count": 1,
      "metadata": {
        "colab": {
          "base_uri": "https://localhost:8080/"
        },
        "id": "Ir1K8fKWzyDM",
        "outputId": "e73476de-7eca-443b-d005-40c284425624"
      },
      "outputs": [
        {
          "output_type": "stream",
          "name": "stdout",
          "text": [
            "Cloning into 'auto_avsr'...\n",
            "remote: Enumerating objects: 272, done.\u001b[K\n",
            "remote: Counting objects: 100% (91/91), done.\u001b[K\n",
            "remote: Compressing objects: 100% (56/56), done.\u001b[K\n",
            "remote: Total 272 (delta 53), reused 35 (delta 35), pack-reused 181\u001b[K\n",
            "Receiving objects: 100% (272/272), 31.46 MiB | 15.09 MiB/s, done.\n",
            "Resolving deltas: 100% (95/95), done.\n"
          ]
        }
      ],
      "source": [
        "!git clone https://github.com/mpc001/auto_avsr"
      ]
    },
    {
      "cell_type": "code",
      "source": [
        "import os\n",
        "from tqdm import tqdm"
      ],
      "metadata": {
        "id": "crloPN-J0jRQ"
      },
      "execution_count": 2,
      "outputs": []
    },
    {
      "cell_type": "markdown",
      "source": [
        "# Generar input.txt"
      ],
      "metadata": {
        "id": "Dk1GpTQt3RNG"
      }
    },
    {
      "cell_type": "code",
      "source": [
        "# Obtener la ruta de la carpeta\n",
        "ruta_carpeta = \"/content/drive/MyDrive/vsr/VPHB_USFX_preprocessing/VPHBUSFX/text\"\n",
        "\n",
        "# Lista para almacenar las oraciones\n",
        "oraciones = []\n",
        "\n",
        "# Recorrer los archivos .txt en la carpeta\n",
        "for archivo in tqdm(os.listdir(ruta_carpeta)):\n",
        "    # Si el archivo es un .txt\n",
        "    if archivo.endswith(\".txt\"):\n",
        "        # Abrir el archivo en modo lectura\n",
        "        with open(os.path.join(ruta_carpeta, archivo), \"r\") as f:\n",
        "            # Leer cada línea del archivo\n",
        "            for linea in f:\n",
        "                # Agregar la línea a la lista de oraciones\n",
        "                oraciones.append(linea.strip())\n",
        "\n",
        "# Abrir un nuevo archivo .txt en modo escritura\n",
        "with open(\"/content/auto_avsr/spm/input.txt\", \"w\") as f:\n",
        "    # Escribir cada oración en el nuevo archivo\n",
        "    for oracion in oraciones:\n",
        "        f.write(oracion + \"\\n\")"
      ],
      "metadata": {
        "colab": {
          "base_uri": "https://localhost:8080/"
        },
        "id": "prGo08ig2BR6",
        "outputId": "8e4d761f-d5a2-4f2e-84d1-b16872e351f9"
      },
      "execution_count": 3,
      "outputs": [
        {
          "output_type": "stream",
          "name": "stderr",
          "text": [
            "100%|██████████| 1227/1227 [00:22<00:00, 55.12it/s] \n"
          ]
        }
      ]
    },
    {
      "cell_type": "markdown",
      "source": [
        "# Entrenar SentencePiece"
      ],
      "metadata": {
        "id": "TutblO6J3ZsM"
      }
    },
    {
      "cell_type": "code",
      "source": [
        "%cd \"/content/auto_avsr/spm\""
      ],
      "metadata": {
        "colab": {
          "base_uri": "https://localhost:8080/"
        },
        "id": "ynxzM9mv4tVM",
        "outputId": "bb02388a-0cd8-40b0-88a4-c01e498f988e"
      },
      "execution_count": 4,
      "outputs": [
        {
          "output_type": "stream",
          "name": "stdout",
          "text": [
            "/content/auto_avsr/spm\n"
          ]
        }
      ]
    },
    {
      "cell_type": "code",
      "source": [
        "!bash train.sh"
      ],
      "metadata": {
        "colab": {
          "base_uri": "https://localhost:8080/"
        },
        "id": "9CUzfZoi4pld",
        "outputId": "7c1b8a26-4db4-4135-d721-b9e69c0409ca"
      },
      "execution_count": 10,
      "outputs": [
        {
          "output_type": "stream",
          "name": "stdout",
          "text": [
            "sentencepiece_trainer.cc(177) LOG(INFO) Running command: --input=input.txt --vocab_size=30 --model_type=unigram --model_prefix=unigram/unigram30 --input_sentence_size=100000000\n",
            "sentencepiece_trainer.cc(77) LOG(INFO) Starts training with : \n",
            "trainer_spec {\n",
            "  input: input.txt\n",
            "  input_format: \n",
            "  model_prefix: unigram/unigram30\n",
            "  model_type: UNIGRAM\n",
            "  vocab_size: 30\n",
            "  self_test_sample_size: 0\n",
            "  character_coverage: 0.9995\n",
            "  input_sentence_size: 100000000\n",
            "  shuffle_input_sentence: 1\n",
            "  seed_sentencepiece_size: 1000000\n",
            "  shrinking_factor: 0.75\n",
            "  max_sentence_length: 4192\n",
            "  num_threads: 16\n",
            "  num_sub_iterations: 2\n",
            "  max_sentencepiece_length: 16\n",
            "  split_by_unicode_script: 1\n",
            "  split_by_number: 1\n",
            "  split_by_whitespace: 1\n",
            "  split_digits: 0\n",
            "  pretokenization_delimiter: \n",
            "  treat_whitespace_as_suffix: 0\n",
            "  allow_whitespace_only_pieces: 0\n",
            "  required_chars: \n",
            "  byte_fallback: 0\n",
            "  vocabulary_output_piece_score: 1\n",
            "  train_extremely_large_corpus: 0\n",
            "  hard_vocab_limit: 1\n",
            "  use_all_vocab: 0\n",
            "  unk_id: 0\n",
            "  bos_id: 1\n",
            "  eos_id: 2\n",
            "  pad_id: -1\n",
            "  unk_piece: <unk>\n",
            "  bos_piece: <s>\n",
            "  eos_piece: </s>\n",
            "  pad_piece: <pad>\n",
            "  unk_surface:  ⁇ \n",
            "  enable_differential_privacy: 0\n",
            "  differential_privacy_noise_level: 0\n",
            "  differential_privacy_clipping_threshold: 0\n",
            "}\n",
            "normalizer_spec {\n",
            "  name: nmt_nfkc\n",
            "  add_dummy_prefix: 1\n",
            "  remove_extra_whitespaces: 1\n",
            "  escape_whitespaces: 1\n",
            "  normalization_rule_tsv: \n",
            "}\n",
            "denormalizer_spec {}\n",
            "trainer_interface.cc(351) LOG(INFO) SentenceIterator is not specified. Using MultiFileSentenceIterator.\n",
            "trainer_interface.cc(183) LOG(INFO) Loading corpus: input.txt\n",
            "trainer_interface.cc(407) LOG(INFO) Loaded all 1226 sentences\n",
            "trainer_interface.cc(423) LOG(INFO) Adding meta_piece: <unk>\n",
            "trainer_interface.cc(423) LOG(INFO) Adding meta_piece: <s>\n",
            "trainer_interface.cc(423) LOG(INFO) Adding meta_piece: </s>\n",
            "trainer_interface.cc(428) LOG(INFO) Normalizing sentences...\n",
            "trainer_interface.cc(537) LOG(INFO) all chars count=148949\n",
            "trainer_interface.cc(548) LOG(INFO) Done: 99.951% characters are covered.\n",
            "trainer_interface.cc(558) LOG(INFO) Alphabet size=40\n",
            "trainer_interface.cc(559) LOG(INFO) Final character coverage=0.99951\n",
            "Traceback (most recent call last):\n",
            "  File \"/content/auto_avsr/spm/spm_train.py\", line 13, in <module>\n",
            "    spm.SentencePieceTrainer.Train(\" \".join(sys.argv[1:]))\n",
            "  File \"/usr/local/lib/python3.10/dist-packages/sentencepiece/__init__.py\", line 989, in Train\n",
            "    SentencePieceTrainer._Train(arg=arg, **kwargs)\n",
            "  File \"/usr/local/lib/python3.10/dist-packages/sentencepiece/__init__.py\", line 945, in _Train\n",
            "    return SentencePieceTrainer._TrainFromString(arg)\n",
            "  File \"/usr/local/lib/python3.10/dist-packages/sentencepiece/__init__.py\", line 923, in _TrainFromString\n",
            "    return _sentencepiece.SentencePieceTrainer__TrainFromString(arg)\n",
            "RuntimeError: Internal: src/trainer_interface.cc(581) [(static_cast<int>(required_chars_.size() + meta_pieces_.size())) <= (trainer_spec_.vocab_size())] Vocabulary size is smaller than required_chars. 30 vs 43. Increase vocab_size or decrease character_coverage with --character_coverage option.\n",
            "Traceback (most recent call last):\n",
            "  File \"/content/auto_avsr/spm/spm_encode.py\", line 118, in <module>\n",
            "    main()\n",
            "  File \"/content/auto_avsr/spm/spm_encode.py\", line 47, in main\n",
            "    sp.Load(args.model)\n",
            "  File \"/usr/local/lib/python3.10/dist-packages/sentencepiece/__init__.py\", line 905, in Load\n",
            "    return self.LoadFromFile(model_file)\n",
            "  File \"/usr/local/lib/python3.10/dist-packages/sentencepiece/__init__.py\", line 310, in LoadFromFile\n",
            "    return _sentencepiece.SentencePieceProcessor_LoadFromFile(self, arg)\n",
            "OSError: Not found: \"unigram/unigram30.model\": No such file or directory Error #2\n"
          ]
        }
      ]
    },
    {
      "cell_type": "code",
      "source": [],
      "metadata": {
        "id": "j0ANEf1z3jev"
      },
      "execution_count": null,
      "outputs": []
    }
  ]
}